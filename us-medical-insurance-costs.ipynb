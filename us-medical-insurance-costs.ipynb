{
 "cells": [
  {
   "cell_type": "markdown",
   "metadata": {},
   "source": [
    "# U.S. Medical Insurance Costs\n",
    "\n",
    "The goal of this project is to analyse medical insurance cost data for people in the US.\n",
    "\n",
    "This project will scope, analyse and explain the different findings from the data.\n",
    "\n",
    "Here are a few questions that this project has sought to answer:\n",
    "\n",
    "- What is the distribution of individual insurance costs?\n",
    "- What variables affect the insurance costs?\n",
    "- What is the average insurance cost for a US citizen?\n",
    "- How much do the insurance costs stray from the average based on the lifesyle and other variables of the individual?\n",
    "\n",
    "**Data sources:**\n",
    "\n",
    "The data file `Insurance.csv` was provided by [Codecademy.com](https://www.codecademy.com).\n",
    "\n",
    "Note: The data for this project is *inspired* by real data, but is mostly fictional."
   ]
  },
  {
   "cell_type": "markdown",
   "metadata": {},
   "source": [
    "## Scope\n",
    "\n",
    "### Project Goals\n",
    "\n",
    "In this project the perspective will be through a biodiversity analyst for the National Parks Service. The National Park Service wants to ensure the survival of at-risk species, to maintain the level of biodiversity within their parks. Therefore, the main objectives as an analyst will be understanding characteristics about the species and their conservations status, and those species and their relationship to the national parks. Some questions that are posed:\n",
    "\n",
    "- What is the distribution of males and females?\n",
    "- Are certain variables likely to affect insurance costs more?\n",
    "- What is the average insurance cost for a US citizen?\n",
    "- Does the age affect the insurance cost?\n",
    "\n",
    "### Data\n",
    "\n",
    "The `csv` file provided has information about Medical Insurance costs for individuals in the US. \n",
    "\n",
    "### Analysis\n",
    "\n",
    "In this section, descriptive statistics and data visualization techniques will be employed to understand the data better. Statistical inference will also be used to test if the observed values are statistically significant. Some of the key metrics that will be computed include: \n",
    "\n",
    "1. Distributions\n",
    "1. counts \n",
    "\n",
    "### Evaluation\n",
    "\n",
    "\n"
   ]
  },
  {
   "cell_type": "markdown",
   "metadata": {},
   "source": [
    "## Import Python Modules\n",
    "\n",
    "First, import the primary modules that will be used in this project:"
   ]
  },
  {
   "cell_type": "code",
   "execution_count": 1,
   "metadata": {},
   "outputs": [],
   "source": [
    "import csv\n",
    "from collections import Counter"
   ]
  },
  {
   "cell_type": "markdown",
   "metadata": {},
   "source": [
    "### Define the filename variable"
   ]
  },
  {
   "cell_type": "code",
   "execution_count": 2,
   "metadata": {},
   "outputs": [],
   "source": [
    "filename = 'insurance.csv'"
   ]
  },
  {
   "cell_type": "markdown",
   "metadata": {},
   "source": [
    "## Define Functions to be used\n",
    "\n",
    "- **calculate_average_age** - calculates the average age of the individuals in the `csv` \n",
    "- **calculate_region** - retuens the number of people in each region\n",
    "- **sex_total** - returns the number of people in each sex\n",
    "- **smoker_average** - returns the average cost of smokers and non smokers and the counts for both smokers and non-smokers\n",
    "- **range_cost** - returns the difference between the highest and lowest insurance cost\n",
    "- **calculate_average_cost** - returns the average insurance cost of all individuals\n",
    "- **average_cost_parents** - returns the average insurance cost for parents vs non parents\n",
    "- **bmi_average** - returns the average BMI or the individuals and calculates the average cost of insurance for people above and below the average bmi\n"
   ]
  },
  {
   "cell_type": "code",
   "execution_count": 3,
   "metadata": {},
   "outputs": [],
   "source": [
    "def calculate_average_age(filename):\n",
    "    total_age = 0\n",
    "    count = 0\n",
    "    lower_age_count = 0\n",
    "    higher_age_count = 0\n",
    "    lower_age_cost = 0\n",
    "    higher_age_cost = 0\n",
    "\n",
    "    with open(filename, 'r') as csvfile:\n",
    "        reader = csv.DictReader(csvfile)\n",
    "        for row in reader:\n",
    "            total_age += int(row['age'])\n",
    "            count += 1\n",
    "\n",
    "    if count == 0:\n",
    "        return 0, 0, 0\n",
    "\n",
    "    average_age = total_age / count\n",
    "\n",
    "    with open(filename, 'r') as csvfile:\n",
    "        reader = csv.DictReader(csvfile)\n",
    "        for row in reader:\n",
    "            age = int(row['age'])\n",
    "            charges = float(row['charges'])\n",
    "            if age < average_age:\n",
    "                lower_age_cost += charges\n",
    "                lower_age_count += 1\n",
    "            elif age > average_age:\n",
    "                higher_age_cost += charges\n",
    "                higher_age_count += 1\n",
    "\n",
    "    if lower_age_count == 0:\n",
    "        lower_age_avg = 0\n",
    "    else:\n",
    "        lower_age_avg = round(lower_age_cost / lower_age_count, 1)\n",
    "\n",
    "    if higher_age_count == 0:\n",
    "        higher_age_avg = 0\n",
    "    else:\n",
    "        higher_age_avg = round(higher_age_cost / higher_age_count, 1)\n",
    "\n",
    "    return int(average_age), lower_age_avg, higher_age_avg"
   ]
  },
  {
   "cell_type": "code",
   "execution_count": 4,
   "metadata": {},
   "outputs": [],
   "source": [
    "def calculate_region(filename):\n",
    "    region_counter = Counter()\n",
    "\n",
    "    with open(filename, 'r') as csvfile:\n",
    "        reader = csv.DictReader(csvfile)\n",
    "        for row in reader:\n",
    "            region = row['region']\n",
    "            region_counter[region] += 1\n",
    "\n",
    "    return region_counter"
   ]
  },
  {
   "cell_type": "code",
   "execution_count": 5,
   "metadata": {},
   "outputs": [],
   "source": [
    "def average_cost_by_sex(filename):\n",
    "    male_total_cost = 0\n",
    "    female_total_cost = 0\n",
    "    male_count = 0\n",
    "    female_count = 0\n",
    "    sex_counter = Counter()\n",
    "\n",
    "    with open(filename, 'r') as csvfile:\n",
    "        reader = csv.DictReader(csvfile)\n",
    "        for row in reader:\n",
    "            sex = row['sex']\n",
    "            sex_counter[sex] += 1\n",
    "            if sex == 'male':\n",
    "                male_total_cost += float(row['charges'])\n",
    "                male_count += 1\n",
    "            else:\n",
    "                female_total_cost += float(row['charges'])\n",
    "                female_count += 1\n",
    "\n",
    "    if male_count == 0:\n",
    "        male_average_cost = 0\n",
    "    else:\n",
    "        male_average_cost = round(male_total_cost / male_count, 1)\n",
    "\n",
    "    if female_count == 0:\n",
    "        female_average_cost = 0\n",
    "    else:\n",
    "        female_average_cost = round(female_total_cost / female_count, 1)\n",
    "\n",
    "    return male_average_cost, female_average_cost, sex_counter['male'], sex_counter['female']\n"
   ]
  },
  {
   "cell_type": "code",
   "execution_count": 6,
   "metadata": {},
   "outputs": [],
   "source": [
    "def smoker_average(filename):\n",
    "    smoker_total_cost = 0\n",
    "    non_smoker_total_cost = 0\n",
    "    smoker_count = 0\n",
    "    non_smoker_count = 0\n",
    "    smoker_counter = Counter()\n",
    "\n",
    "    with open(filename, 'r') as csvfile:\n",
    "        reader = csv.DictReader(csvfile)\n",
    "        for row in reader:\n",
    "            smoker = row['smoker']\n",
    "            smoker_counter[smoker] += 1\n",
    "            if smoker == 'yes':\n",
    "                smoker_total_cost += float(row['charges'])\n",
    "                smoker_count += 1\n",
    "            else:\n",
    "                non_smoker_total_cost += float(row['charges'])\n",
    "                non_smoker_count += 1\n",
    "\n",
    "    if smoker_count == 0:\n",
    "        smoker_average_cost = 0\n",
    "    else:\n",
    "        smoker_average_cost = round(smoker_total_cost / smoker_count, 1)\n",
    "\n",
    "    if non_smoker_count == 0:\n",
    "        non_smoker_average_cost = 0\n",
    "    else:\n",
    "        non_smoker_average_cost = round(non_smoker_total_cost / non_smoker_count, 1)\n",
    "\n",
    "    return smoker_average_cost, non_smoker_average_cost, smoker_counter['yes'], smoker_counter['no']"
   ]
  },
  {
   "cell_type": "code",
   "execution_count": 7,
   "metadata": {},
   "outputs": [],
   "source": [
    "def range_cost(filename):\n",
    "    insurance_costs = []\n",
    "    with open(filename, 'r') as csvfile:\n",
    "        reader = csv.DictReader(csvfile)\n",
    "        for row in reader:\n",
    "            insurance_costs.append(float(row['charges']))\n",
    "\n",
    "    if not insurance_costs:\n",
    "        return 0  \n",
    "\n",
    "    insurance_costs_range = max(insurance_costs) - min(insurance_costs)\n",
    "    return max(insurance_costs), min(insurance_costs), round(insurance_costs_range,1)"
   ]
  },
  {
   "cell_type": "code",
   "execution_count": 8,
   "metadata": {},
   "outputs": [],
   "source": [
    "def calculate_average_cost(filename):\n",
    "    total_cost = 0\n",
    "    count = 0\n",
    "    with open(filename, 'r') as csvfile:\n",
    "        reader = csv.DictReader(csvfile)\n",
    "        for row in reader:\n",
    "            total_cost += float(row['charges'])\n",
    "            count += 1\n",
    "\n",
    "    if count == 0:\n",
    "        return 0\n",
    "\n",
    "    average_cost = round(total_cost / count, 1)\n",
    "    return average_cost"
   ]
  },
  {
   "cell_type": "code",
   "execution_count": 9,
   "metadata": {},
   "outputs": [],
   "source": [
    "def average_cost_parents(filename):\n",
    "    parent_total_cost = 0\n",
    "    non_parent_total_cost = 0\n",
    "    parent_count = 0\n",
    "    non_parent_count = 0\n",
    "    parent_counter = Counter()\n",
    "\n",
    "    with open(filename, 'r') as csvfile:\n",
    "        reader = csv.DictReader(csvfile)\n",
    "        for row in reader:\n",
    "            parent = int(row['children'])\n",
    "            parent_counter[parent] += 1\n",
    "            if parent != 0:\n",
    "                parent_total_cost += float(row['charges'])\n",
    "                parent_count += 1\n",
    "            if parent == 0:\n",
    "                non_parent_total_cost+= float(row['charges'])\n",
    "                non_parent_count += 1\n",
    "\n",
    "    if parent_count == 0:\n",
    "        parent_average_cost = 0\n",
    "    elif non_parent_count == 0:\n",
    "        non_parent_average_cost = 0\n",
    "    else:\n",
    "        parent_average_cost = round(parent_total_cost/ parent_count, 1)\n",
    "        non_parent_average_cost = round(non_parent_total_cost/ non_parent_count, 1)\n",
    "\n",
    "    return parent_average_cost, non_parent_average_cost"
   ]
  },
  {
   "cell_type": "code",
   "execution_count": 10,
   "metadata": {},
   "outputs": [],
   "source": [
    "def bmi_average(filename):\n",
    "    total_bmi = 0\n",
    "    count = 0\n",
    "    lower_bmi_count = 0\n",
    "    higher_bmi_count = 0\n",
    "    lower_bmi_cost = 0\n",
    "    higher_bmi_cost = 0\n",
    "\n",
    "    with open(filename, 'r') as csvfile:\n",
    "        reader = csv.DictReader(csvfile)\n",
    "        for row in reader:\n",
    "            total_bmi += float(row['bmi'])\n",
    "            count += 1\n",
    "\n",
    "    if count == 0:\n",
    "        return 0, 0, 0\n",
    "\n",
    "    average_bmi = total_bmi / count\n",
    "\n",
    "    with open(filename, 'r') as csvfile:\n",
    "        reader = csv.DictReader(csvfile)\n",
    "        for row in reader:\n",
    "            bmi = float(row['bmi'])\n",
    "            charges = float(row['charges'])\n",
    "            if bmi < average_bmi:\n",
    "                lower_bmi_cost += charges\n",
    "                lower_bmi_count += 1\n",
    "            elif bmi > average_bmi:\n",
    "                higher_bmi_cost += charges\n",
    "                higher_bmi_count += 1\n",
    "\n",
    "    if lower_bmi_count == 0:\n",
    "        lower_bmi_avg = 0\n",
    "    else:\n",
    "        lower_bmi_avg = round(lower_bmi_cost / lower_bmi_count, 1)\n",
    "\n",
    "    if higher_bmi_count == 0:\n",
    "        higher_bmi_avg = 0\n",
    "    else:\n",
    "        higher_bmi_avg = round(higher_bmi_cost / higher_bmi_count, 1)\n",
    "\n",
    "    return round(average_bmi,2), lower_bmi_avg, higher_bmi_avg"
   ]
  },
  {
   "cell_type": "markdown",
   "metadata": {},
   "source": [
    "## Printing out results"
   ]
  },
  {
   "cell_type": "markdown",
   "metadata": {},
   "source": [
    "### Printing out the average insurance cost"
   ]
  },
  {
   "cell_type": "code",
   "execution_count": 11,
   "metadata": {},
   "outputs": [
    {
     "name": "stdout",
     "output_type": "stream",
     "text": [
      "The average insurance charge is 13270.4$\n"
     ]
    }
   ],
   "source": [
    "print(f\"The average insurance charge is {calculate_average_cost(filename)}$\")"
   ]
  },
  {
   "cell_type": "markdown",
   "metadata": {},
   "source": [
    "### Range in insurance costs"
   ]
  },
  {
   "cell_type": "code",
   "execution_count": 12,
   "metadata": {},
   "outputs": [
    {
     "name": "stdout",
     "output_type": "stream",
     "text": [
      "The highest insurance cost is: 63770.42801$\n",
      "The lowest insurance cost is: 1121.8739$\n",
      "Range in insurance: 62648.6$\n"
     ]
    }
   ],
   "source": [
    "max_insurance, min_insurance, insurance_value = range_cost(filename)\n",
    "print(f\"The highest insurance cost is: {max_insurance}$\")\n",
    "print(f\"The lowest insurance cost is: {min_insurance}$\")\n",
    "print(f\"Range in insurance: {insurance_value}$\")"
   ]
  },
  {
   "cell_type": "markdown",
   "metadata": {},
   "source": [
    "### Printing out the number of people belonging to male and female\n",
    "\n",
    "This function shows that there are slightly more men in the dataset than women.\n",
    "The insurance charge is on average higher for males than for females."
   ]
  },
  {
   "cell_type": "code",
   "execution_count": 13,
   "metadata": {},
   "outputs": [
    {
     "name": "stdout",
     "output_type": "stream",
     "text": [
      "Average cost of insurance for males: 13956.8$\n",
      "Average cost of insurance for females: 12569.6$\n",
      "Number of males: 676\n",
      "Number of females: 662\n"
     ]
    }
   ],
   "source": [
    "average_cost_male, average_cost_female, num_male, num_female = average_cost_by_sex(filename)\n",
    "print(f\"Average cost of insurance for males: {average_cost_male}$\")\n",
    "print(f\"Average cost of insurance for females: {average_cost_female}$\")\n",
    "print(f\"Number of males: {num_male}\")\n",
    "print(f\"Number of females: {num_female}\")"
   ]
  },
  {
   "cell_type": "markdown",
   "metadata": {},
   "source": [
    "### Printing out the number of people belonging to each region\n",
    "This function shows the population of each region in the US, the southeast has a larger population than the other three which are virtually the same with northeast having just one fewer person."
   ]
  },
  {
   "cell_type": "code",
   "execution_count": 14,
   "metadata": {},
   "outputs": [
    {
     "name": "stdout",
     "output_type": "stream",
     "text": [
      "southwest: 325\n",
      "southeast: 364\n",
      "northwest: 325\n",
      "northeast: 324\n"
     ]
    }
   ],
   "source": [
    "region_counts = calculate_region(filename)\n",
    "for region, count in region_counts.items():\n",
    "    print(f\"{region}: {count}\")"
   ]
  },
  {
   "cell_type": "markdown",
   "metadata": {},
   "source": [
    "### Printing out average age\n",
    "This function shows the average age of the individuals and the difference in costs between people above and below the average age\n",
    "The results show that the insurance costs are higher for people older than the average age"
   ]
  },
  {
   "cell_type": "code",
   "execution_count": 15,
   "metadata": {},
   "outputs": [
    {
     "name": "stdout",
     "output_type": "stream",
     "text": [
      "The average age is: 39 years\n",
      "The insurance cost for people younger than the average is: 10157.2$\n",
      "The insurance cost for people older than the average is: 16430.5$\n"
     ]
    }
   ],
   "source": [
    "avg_age, lower_age_avg_cost, higher_age_avg_cost = calculate_average_age(filename)\n",
    "print(f\"The average age is: {avg_age} years\")\n",
    "print(f\"The insurance cost for people younger than the average is: {lower_age_avg_cost}$\")\n",
    "print(f\"The insurance cost for people older than the average is: {higher_age_avg_cost}$\")"
   ]
  },
  {
   "cell_type": "markdown",
   "metadata": {},
   "source": [
    "### Printing out Average smoker costs and number of smokers and non-smokers and the figures for both\n",
    "\n",
    "The function prints out the aveage insurance cost for smokers and non-smokers, showing that the average is higher for smokers than for non-smokers"
   ]
  },
  {
   "cell_type": "code",
   "execution_count": 16,
   "metadata": {},
   "outputs": [
    {
     "name": "stdout",
     "output_type": "stream",
     "text": [
      "Average cost of insurance for smokers: 32050.2$\n",
      "Average cost of insurance for non-smokers: 8434.3$\n",
      "Number of smokers: 274\n",
      "Number of non-smokers: 1064\n"
     ]
    }
   ],
   "source": [
    "average_cost_smoker, average_cost_non_smoker, num_smokers, num_non_smokers = smoker_average(filename)\n",
    "print(f\"Average cost of insurance for smokers: {average_cost_smoker}$\")\n",
    "print(f\"Average cost of insurance for non-smokers: {average_cost_non_smoker}$\")\n",
    "print(f\"Number of smokers: {num_smokers}\")\n",
    "print(f\"Number of non-smokers: {num_non_smokers}\")"
   ]
  },
  {
   "cell_type": "markdown",
   "metadata": {},
   "source": [
    "### Printing out the average cost for parents vs non-parents\n",
    "\n",
    "This function shows that the average cost for people with at least one child is higher than the cost for people with no children"
   ]
  },
  {
   "cell_type": "code",
   "execution_count": 17,
   "metadata": {},
   "outputs": [
    {
     "name": "stdout",
     "output_type": "stream",
     "text": [
      "Average cost of insurance for parents is: 13949.9$\n",
      "Average cost of insurance for non-parents is: 12366.0$\n"
     ]
    }
   ],
   "source": [
    "average_cost_parent, average_cost_non_parent = average_cost_parents(filename)\n",
    "print(f\"Average cost of insurance for parents is: {average_cost_parent}$\")\n",
    "print(f\"Average cost of insurance for non-parents is: {average_cost_non_parent}$\")"
   ]
  },
  {
   "cell_type": "markdown",
   "metadata": {},
   "source": [
    "### Printing out average BMI and charges for people above and below the average bmi\n",
    "\n",
    "This function returns the average BMI of the individuals in the dataset as well as calculating the average insurance cost of those above and below the average BMI.\n",
    "The results show that individuals with a higher BMI have a greater insurance charge than those below the average BMI.\n",
    "This is consistent as people above the 30.66 BMI suffer from more health problems as this BMI is considered in the range of Obese"
   ]
  },
  {
   "cell_type": "code",
   "execution_count": 18,
   "metadata": {},
   "outputs": [
    {
     "name": "stdout",
     "output_type": "stream",
     "text": [
      "The average bmi is: 30.66\n",
      "The lower bmi average charge is: 10907.3$\n",
      "The higher bmi average charge is: 15801.8$\n"
     ]
    }
   ],
   "source": [
    "avg_bmi, lower_bmi_avg_cost, higher_bmi_avg_cost = bmi_average(filename)\n",
    "print(f\"The average bmi is: {avg_bmi}\")\n",
    "print(f\"The lower bmi average charge is: {lower_bmi_avg_cost}$\")\n",
    "print(f\"The higher bmi average charge is: {higher_bmi_avg_cost}$\")"
   ]
  },
  {
   "cell_type": "markdown",
   "source": [
    "## Conclusions\n",
    "\n",
    "This project was able to answer some of the questions first posed in the beginning:\n",
    "\n",
    "- What is the distribution of males and females?\n",
    "    - The number of males is slightly higher than females 676 vs 662\n",
    "- Are certain variables likely to affect insurance costs more?\n",
    "    - Yes, while all variables proved to affect the insurance cost Smoking had the biggest difference with the non-smoker average being only 26% of the average cost for smokers. \n",
    "- What is the average insurance cost for a US citizen?\n",
    "    - The average insurance cost is 13270$\n",
    "- Does the age affect the insurance cost?\n",
    "    - Yes, on average older people tend to have a greater insurance cost than younger people."
   ],
   "metadata": {
    "collapsed": false
   }
  }
 ],
 "metadata": {
  "kernelspec": {
   "display_name": "Python 3 (ipykernel)",
   "language": "python",
   "name": "python3"
  },
  "language_info": {
   "codemirror_mode": {
    "name": "ipython",
    "version": 3
   },
   "file_extension": ".py",
   "mimetype": "text/x-python",
   "name": "python",
   "nbconvert_exporter": "python",
   "pygments_lexer": "ipython3",
   "version": "3.11.5"
  }
 },
 "nbformat": 4,
 "nbformat_minor": 4
}
